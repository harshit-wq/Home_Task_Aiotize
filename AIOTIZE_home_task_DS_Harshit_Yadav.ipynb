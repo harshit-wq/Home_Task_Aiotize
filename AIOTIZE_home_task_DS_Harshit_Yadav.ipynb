{
 "cells": [
  {
   "cell_type": "markdown",
   "metadata": {},
   "source": [
    "# Harshit Yadav "
   ]
  },
  {
   "cell_type": "markdown",
   "metadata": {},
   "source": [
    "# AIOTIZE DS take home task"
   ]
  },
  {
   "cell_type": "code",
   "execution_count": 81,
   "metadata": {},
   "outputs": [],
   "source": [
    "import random\n",
    "import pandas as pd\n",
    "import statistics"
   ]
  },
  {
   "cell_type": "markdown",
   "metadata": {},
   "source": [
    "# Part - 1 - Simulation"
   ]
  },
  {
   "cell_type": "markdown",
   "metadata": {},
   "source": [
    "## Simulation Game A"
   ]
  },
  {
   "cell_type": "code",
   "execution_count": 82,
   "metadata": {},
   "outputs": [],
   "source": [
    "def A_game():\n",
    "    n=random.randint(0,36)\n",
    "    if(n%2==0 and n!=0):\n",
    "        return 1;\n",
    "    else:\n",
    "        return 0;\n",
    "    \n",
    "def A_game_simulation():\n",
    "    won=0\n",
    "    lose=0\n",
    "    number_of_times_played=0\n",
    "    for i in range(100000):\n",
    "        number_of_times_played+=1\n",
    "        result=A_game()\n",
    "        if(result):\n",
    "            won+=1;\n",
    "        else:\n",
    "            lose+=1;\n",
    "    return won,lose,number_of_times_played"
   ]
  },
  {
   "cell_type": "markdown",
   "metadata": {},
   "source": [
    "### Problem 1 for game A"
   ]
  },
  {
   "cell_type": "code",
   "execution_count": 83,
   "metadata": {},
   "outputs": [
    {
     "name": "stdout",
     "output_type": "stream",
     "text": [
      "-0.02971999999999997\n"
     ]
    }
   ],
   "source": [
    "def A_problem_1():\n",
    "    x,y,n=A_game_simulation()\n",
    "    return (x*1)/n-(1*y)/n\n",
    "\n",
    "\n",
    "x=A_problem_1()\n",
    "print(x)"
   ]
  },
  {
   "cell_type": "markdown",
   "metadata": {},
   "source": [
    "### Problem 2 for game A"
   ]
  },
  {
   "cell_type": "code",
   "execution_count": 84,
   "metadata": {},
   "outputs": [
    {
     "name": "stdout",
     "output_type": "stream",
     "text": [
      "0.48881\n"
     ]
    }
   ],
   "source": [
    "def A_problem_2():\n",
    "    x,y,n=A_game_simulation()\n",
    "    return x/n\n",
    "\n",
    "\n",
    "x=A_problem_2()\n",
    "print(x)"
   ]
  },
  {
   "cell_type": "markdown",
   "metadata": {},
   "source": [
    "### Problem 3 for game A"
   ]
  },
  {
   "cell_type": "code",
   "execution_count": 85,
   "metadata": {},
   "outputs": [
    {
     "name": "stdout",
     "output_type": "stream",
     "text": [
      "1.0\n"
     ]
    }
   ],
   "source": [
    "def A_problem_3():\n",
    "    x,y,n=A_game_simulation()\n",
    "    return (n/100000)\n",
    "\n",
    "\n",
    "x=A_problem_3()\n",
    "print(x)"
   ]
  },
  {
   "cell_type": "code",
   "execution_count": null,
   "metadata": {},
   "outputs": [],
   "source": []
  },
  {
   "cell_type": "code",
   "execution_count": null,
   "metadata": {},
   "outputs": [],
   "source": []
  },
  {
   "cell_type": "markdown",
   "metadata": {},
   "source": [
    "## Simulation Game B"
   ]
  },
  {
   "cell_type": "code",
   "execution_count": 86,
   "metadata": {},
   "outputs": [],
   "source": [
    "def B_game():\n",
    "    x=random.randint(0,36)\n",
    "    n=random.randint(0,36)\n",
    "    if(n==x):\n",
    "        return 1;\n",
    "    else:\n",
    "        return 0;\n",
    "def B_game_simulation():\n",
    "    won=0\n",
    "    lose=0\n",
    "    numbers=0\n",
    "    for i in range(100000):\n",
    "        numbers+=1\n",
    "        if(B_game()):\n",
    "            won+=1\n",
    "        else:\n",
    "            lose+=1\n",
    "    return won,lose,numbers"
   ]
  },
  {
   "cell_type": "markdown",
   "metadata": {},
   "source": [
    "### Problem 1 for Game B"
   ]
  },
  {
   "cell_type": "code",
   "execution_count": 87,
   "metadata": {},
   "outputs": [
    {
     "name": "stdout",
     "output_type": "stream",
     "text": [
      "-0.015759999999999996\n"
     ]
    }
   ],
   "source": [
    "def B_problem_1():\n",
    "    x,y,n=B_game_simulation()\n",
    "    return (35*x/n-1*y/n)\n",
    "    \n",
    "x=B_problem_1()\n",
    "print(x)"
   ]
  },
  {
   "cell_type": "markdown",
   "metadata": {},
   "source": [
    "### Problem 2 for Game B"
   ]
  },
  {
   "cell_type": "code",
   "execution_count": 88,
   "metadata": {},
   "outputs": [
    {
     "name": "stdout",
     "output_type": "stream",
     "text": [
      "0.02717\n"
     ]
    }
   ],
   "source": [
    "def B_problem_2():\n",
    "    x,y,z=B_game_simulation()\n",
    "    return x/100000\n",
    "\n",
    "x=B_problem_2()\n",
    "print(x)"
   ]
  },
  {
   "cell_type": "markdown",
   "metadata": {},
   "source": [
    "### Problem 3 for Game B"
   ]
  },
  {
   "cell_type": "code",
   "execution_count": 89,
   "metadata": {},
   "outputs": [
    {
     "name": "stdout",
     "output_type": "stream",
     "text": [
      "1.0\n"
     ]
    }
   ],
   "source": [
    "def B_problem_3():\n",
    "    x,y,z=B_game_simulation();\n",
    "    return z/100000\n",
    "\n",
    "x=B_problem_3()\n",
    "print(x)"
   ]
  },
  {
   "cell_type": "code",
   "execution_count": null,
   "metadata": {},
   "outputs": [],
   "source": []
  },
  {
   "cell_type": "code",
   "execution_count": null,
   "metadata": {},
   "outputs": [],
   "source": []
  },
  {
   "cell_type": "markdown",
   "metadata": {},
   "source": [
    "## Simulation for Game C"
   ]
  },
  {
   "cell_type": "code",
   "execution_count": 90,
   "metadata": {},
   "outputs": [],
   "source": [
    "\n",
    "def C_game():\n",
    "    funds=1;bet=1;gamesperit=0\n",
    "    while(funds<11 and bet<=100):\n",
    "        gamesperit+=1;\n",
    "        x=random.randint(0,36)\n",
    "        if(x%2!=0):\n",
    "            funds+=1\n",
    "            bet=1\n",
    "        else:\n",
    "            bet*=2\n",
    "            funds-=1\n",
    "    if(funds>1):\n",
    "        return [1,gamesperit]\n",
    "    else:\n",
    "        return [0,gamesperit]\n",
    "\n",
    "\n",
    "\n",
    "\n",
    "def C_game_simulation():\n",
    "    wontimes=0;losttimes=0;games=0;\n",
    "    for i in range(100000):\n",
    "        result=C_game()\n",
    "        if(result[0]==1):\n",
    "            wontimes+=1\n",
    "            games+=result[1]\n",
    "        else:\n",
    "            losttimes+=1\n",
    "            games+=result[1]\n",
    "    return wontimes,losttimes,games"
   ]
  },
  {
   "cell_type": "markdown",
   "metadata": {},
   "source": [
    "### Problem 1 for Game C"
   ]
  },
  {
   "cell_type": "code",
   "execution_count": 91,
   "metadata": {},
   "outputs": [
    {
     "name": "stdout",
     "output_type": "stream",
     "text": [
      "-0.24767999999999996\n"
     ]
    }
   ],
   "source": [
    "def C_problem_1():\n",
    "    x,y,z=C_game_simulation()\n",
    "    return (x/100000)-(y/100000)\n",
    "\n",
    "x=C_problem_1()\n",
    "print(x)"
   ]
  },
  {
   "cell_type": "markdown",
   "metadata": {},
   "source": [
    "### Problem 2 for Game C"
   ]
  },
  {
   "cell_type": "code",
   "execution_count": 92,
   "metadata": {},
   "outputs": [
    {
     "name": "stdout",
     "output_type": "stream",
     "text": [
      "0.37615\n"
     ]
    }
   ],
   "source": [
    "def C_problem_2():\n",
    "    x,y,z=C_game_simulation()\n",
    "    return x/100000\n",
    "\n",
    "x=C_problem_2()\n",
    "print(x)"
   ]
  },
  {
   "cell_type": "markdown",
   "metadata": {},
   "source": [
    "### Problem 3 for Game C"
   ]
  },
  {
   "cell_type": "code",
   "execution_count": 93,
   "metadata": {},
   "outputs": [
    {
     "name": "stdout",
     "output_type": "stream",
     "text": [
      "139.22679\n"
     ]
    }
   ],
   "source": [
    "def C_problem_3():\n",
    "    x,y,z=C_game_simulation()\n",
    "    return (z/100000)\n",
    "\n",
    "x=C_problem_3()\n",
    "print(x)"
   ]
  },
  {
   "cell_type": "code",
   "execution_count": null,
   "metadata": {},
   "outputs": [],
   "source": []
  },
  {
   "cell_type": "code",
   "execution_count": null,
   "metadata": {},
   "outputs": [],
   "source": []
  },
  {
   "cell_type": "markdown",
   "metadata": {},
   "source": [
    "## Simulation for Game D"
   ]
  },
  {
   "cell_type": "code",
   "execution_count": 94,
   "metadata": {},
   "outputs": [],
   "source": [
    "def D_game():\n",
    "    bet=5;ourlist=[1,2,3,4];gamesinbet=0;funds=5\n",
    "    while(len(ourlist)>=1 and bet<=100):\n",
    "       # for i in ourlist:\n",
    "        #    print(i)\n",
    "        #print(\"end\")\n",
    "        gamesinbet+=1\n",
    "        if(len(ourlist)==1):\n",
    "            bet=ourlist[0]\n",
    "        else:\n",
    "            bet=ourlist[0]+ourlist[-1]\n",
    "        x=random.randint(0,36)\n",
    "        if(x%2!=0):\n",
    "            ourlist=ourlist[1:-1]\n",
    "            funds+=bet\n",
    "        else:\n",
    "            ourlist.append(bet)\n",
    "            funds-=bet\n",
    "    if(funds>5):\n",
    "        return [1,gamesinbet]\n",
    "    else:\n",
    "        return [0,gamesinbet]\n",
    "\n",
    "\n",
    "\n",
    "def D_game_simulation():\n",
    "    winnings=0;lost=0;games=0\n",
    "    for i in range(100000):\n",
    "        result=D_game()\n",
    "        if(result[0]==1):\n",
    "            winnings+=1\n",
    "            games+=result[1]\n",
    "        else:\n",
    "            lost+=1\n",
    "            games+=result[1]\n",
    "    return winnings,lost,games"
   ]
  },
  {
   "cell_type": "markdown",
   "metadata": {},
   "source": [
    "### Problem 1 For Game D"
   ]
  },
  {
   "cell_type": "code",
   "execution_count": 95,
   "metadata": {},
   "outputs": [
    {
     "name": "stdout",
     "output_type": "stream",
     "text": [
      "0.91614\n"
     ]
    }
   ],
   "source": [
    "def D_problem_1():\n",
    "    x,y,z=D_game_simulation()\n",
    "    return x/100000-y/100000\n",
    "\n",
    "x=D_problem_1()\n",
    "print(x)"
   ]
  },
  {
   "cell_type": "markdown",
   "metadata": {},
   "source": [
    "### Problem 2 For Game D"
   ]
  },
  {
   "cell_type": "code",
   "execution_count": 96,
   "metadata": {},
   "outputs": [
    {
     "name": "stdout",
     "output_type": "stream",
     "text": [
      "22.815194093831863\n"
     ]
    }
   ],
   "source": [
    "def D_problem_2():\n",
    "    x,y,z=D_game_simulation()\n",
    "    return x/y\n",
    "\n",
    "x=D_problem_2()\n",
    "print(x)"
   ]
  },
  {
   "cell_type": "markdown",
   "metadata": {},
   "source": [
    "### Problem 3 For Game D"
   ]
  },
  {
   "cell_type": "code",
   "execution_count": 97,
   "metadata": {},
   "outputs": [
    {
     "name": "stdout",
     "output_type": "stream",
     "text": [
      "8.75138\n"
     ]
    }
   ],
   "source": [
    "def D_problem_3():\n",
    "    x,y,z=D_game_simulation()\n",
    "    return z/100000\n",
    "\n",
    "x=D_problem_3()\n",
    "print(x)"
   ]
  },
  {
   "cell_type": "code",
   "execution_count": null,
   "metadata": {},
   "outputs": [],
   "source": []
  },
  {
   "cell_type": "code",
   "execution_count": null,
   "metadata": {},
   "outputs": [],
   "source": []
  },
  {
   "cell_type": "code",
   "execution_count": null,
   "metadata": {},
   "outputs": [],
   "source": []
  },
  {
   "cell_type": "code",
   "execution_count": null,
   "metadata": {},
   "outputs": [],
   "source": []
  },
  {
   "cell_type": "markdown",
   "metadata": {},
   "source": [
    "# Part - 2 - Verification"
   ]
  },
  {
   "cell_type": "markdown",
   "metadata": {},
   "source": [
    "## For Games A and B checking my estimates for game 1 and 2 and calculating percentage error with respect to exact answer"
   ]
  },
  {
   "cell_type": "markdown",
   "metadata": {},
   "source": [
    "## For Game A->"
   ]
  },
  {
   "cell_type": "markdown",
   "metadata": {},
   "source": [
    "### Problem 1->"
   ]
  },
  {
   "cell_type": "code",
   "execution_count": 98,
   "metadata": {},
   "outputs": [],
   "source": [
    "def Calculation_Game_A_problem_1():\n",
    "    prob_of_red=(18/37)\n",
    "    prob_of_non_red=(19/37)\n",
    "    winning_amount=1\n",
    "    losing_amount=1\n",
    "    expected_value=winning_amount*prob_of_red-losing_amount*prob_of_non_red\n",
    "    return expected_value"
   ]
  },
  {
   "cell_type": "code",
   "execution_count": null,
   "metadata": {},
   "outputs": [],
   "source": []
  },
  {
   "cell_type": "code",
   "execution_count": 99,
   "metadata": {},
   "outputs": [],
   "source": [
    "def Percentage_error_Game_A_problem_1():\n",
    "    expected_value_from_simulaion=A_problem_1()\n",
    "    calculated_expected_value=Calculation_Game_A_problem_1()\n",
    "    return ((calculated_expected_value-expected_value_from_simulaion)/calculated_expected_value)*100"
   ]
  },
  {
   "cell_type": "code",
   "execution_count": 100,
   "metadata": {},
   "outputs": [
    {
     "name": "stdout",
     "output_type": "stream",
     "text": [
      "6.315999999999779 %\n"
     ]
    }
   ],
   "source": [
    "x=Percentage_error_Game_A_problem_1()\n",
    "print(x,\"%\")"
   ]
  },
  {
   "cell_type": "code",
   "execution_count": null,
   "metadata": {},
   "outputs": [],
   "source": []
  },
  {
   "cell_type": "markdown",
   "metadata": {},
   "source": [
    "### Problem 2->"
   ]
  },
  {
   "cell_type": "code",
   "execution_count": 101,
   "metadata": {},
   "outputs": [],
   "source": [
    "def Calculation_Game_A_problem_2():\n",
    "    prob_of_red=(18/37)\n",
    "    prob_of_non_red=(19/37)\n",
    "    return prob_of_red"
   ]
  },
  {
   "cell_type": "code",
   "execution_count": 102,
   "metadata": {},
   "outputs": [],
   "source": [
    "def Percentage_error_Game_A_problem_2():\n",
    "    expected_value_from_simulaion=A_problem_2()\n",
    "    calculated_expected_value=Calculation_Game_A_problem_2()\n",
    "    return ((calculated_expected_value-expected_value_from_simulaion)/calculated_expected_value)*100"
   ]
  },
  {
   "cell_type": "code",
   "execution_count": 103,
   "metadata": {},
   "outputs": [
    {
     "name": "stdout",
     "output_type": "stream",
     "text": [
      "-0.04183333333333014 %\n"
     ]
    }
   ],
   "source": [
    "x=Percentage_error_Game_A_problem_2()\n",
    "print(x,\"%\")"
   ]
  },
  {
   "cell_type": "code",
   "execution_count": null,
   "metadata": {},
   "outputs": [],
   "source": []
  },
  {
   "cell_type": "markdown",
   "metadata": {},
   "source": [
    "## For Game B->"
   ]
  },
  {
   "cell_type": "markdown",
   "metadata": {},
   "source": [
    "### Problem 1->"
   ]
  },
  {
   "cell_type": "code",
   "execution_count": 104,
   "metadata": {},
   "outputs": [],
   "source": [
    "def Calculation_Game_B_problem_1():\n",
    "    prob_of_winning=(1/37)\n",
    "    prob_of_loosing=(36/37)\n",
    "    winning_amount=35\n",
    "    loosing_amount=1\n",
    "    expected_value=winning_amount*prob_of_winning-loosing_amount*prob_of_loosing\n",
    "    return expected_value"
   ]
  },
  {
   "cell_type": "code",
   "execution_count": 105,
   "metadata": {},
   "outputs": [],
   "source": [
    "def Percentage_error_Game_B_problem_1():\n",
    "    expected_value_from_simulaion=B_problem_1()\n",
    "    calculated_expected_value=Calculation_Game_A_problem_1()\n",
    "    return ((calculated_expected_value-expected_value_from_simulaion)/calculated_expected_value)*100"
   ]
  },
  {
   "cell_type": "code",
   "execution_count": 106,
   "metadata": {},
   "outputs": [
    {
     "name": "stdout",
     "output_type": "stream",
     "text": [
      "108.2880000000001 %\n"
     ]
    }
   ],
   "source": [
    "x=Percentage_error_Game_B_problem_1()\n",
    "print(x,\"%\")"
   ]
  },
  {
   "cell_type": "code",
   "execution_count": null,
   "metadata": {},
   "outputs": [],
   "source": []
  },
  {
   "cell_type": "markdown",
   "metadata": {},
   "source": [
    "### Problem 2->"
   ]
  },
  {
   "cell_type": "code",
   "execution_count": 107,
   "metadata": {},
   "outputs": [],
   "source": [
    "def Calculation_Game_B_problem_2():\n",
    "    prob_of_winning=(1/37)\n",
    "    prob_of_loosing=(36/37)\n",
    "    return prob_of_winning"
   ]
  },
  {
   "cell_type": "code",
   "execution_count": 108,
   "metadata": {},
   "outputs": [],
   "source": [
    "def Percentage_error_Game_B_problem_2():\n",
    "    expected_value_from_simulaion=B_problem_2()\n",
    "    calculated_expected_value=Calculation_Game_B_problem_2()\n",
    "    return ((calculated_expected_value-expected_value_from_simulaion)/calculated_expected_value)*100"
   ]
  },
  {
   "cell_type": "code",
   "execution_count": 109,
   "metadata": {},
   "outputs": [
    {
     "name": "stdout",
     "output_type": "stream",
     "text": [
      "5.539000000000003 %\n"
     ]
    }
   ],
   "source": [
    "x=Percentage_error_Game_B_problem_2()\n",
    "print(x,\"%\")"
   ]
  },
  {
   "cell_type": "code",
   "execution_count": null,
   "metadata": {},
   "outputs": [],
   "source": []
  },
  {
   "cell_type": "code",
   "execution_count": null,
   "metadata": {},
   "outputs": [],
   "source": []
  },
  {
   "cell_type": "code",
   "execution_count": null,
   "metadata": {},
   "outputs": [],
   "source": []
  },
  {
   "cell_type": "code",
   "execution_count": null,
   "metadata": {},
   "outputs": [],
   "source": []
  },
  {
   "cell_type": "code",
   "execution_count": null,
   "metadata": {},
   "outputs": [],
   "source": []
  },
  {
   "cell_type": "markdown",
   "metadata": {},
   "source": [
    "#  Part - 3 - Variation"
   ]
  },
  {
   "cell_type": "markdown",
   "metadata": {},
   "source": [
    "## Variation Part A"
   ]
  },
  {
   "cell_type": "markdown",
   "metadata": {},
   "source": [
    "### Repeating simulations for each game 5 times and returning the table"
   ]
  },
  {
   "cell_type": "code",
   "execution_count": 110,
   "metadata": {},
   "outputs": [],
   "source": [
    "def Game_row_fields(game1,game2,game3):\n",
    "    game_row_sequence_wise=[]\n",
    "    game_problem_1_5_repetitions=[]\n",
    "    game_problem_2_5_repetitions=[]\n",
    "    game_problem_3_5_repetitions=[]\n",
    "    for i in range(5):\n",
    "        x=game1()\n",
    "        game_problem_1_5_repetitions.append(x)\n",
    "        y=game2()\n",
    "        game_problem_2_5_repetitions.append(y)\n",
    "        z=game3()\n",
    "        game_problem_3_5_repetitions.append(z)\n",
    "    \n",
    "    game_row_sequence_wise.append([sorted(game_problem_1_5_repetitions)[0],sorted(game_problem_1_5_repetitions)[1]])\n",
    "    game_row_sequence_wise.append([sorted(game_problem_2_5_repetitions)[0],sorted(game_problem_2_5_repetitions)[1]])\n",
    "    game_row_sequence_wise.append([sorted(game_problem_3_5_repetitions)[0],sorted(game_problem_3_5_repetitions)[1]])\n",
    "    return game_row_sequence_wise"
   ]
  },
  {
   "cell_type": "code",
   "execution_count": 111,
   "metadata": {},
   "outputs": [],
   "source": [
    "A_game_row_field_sequence_wise=Game_row_fields(A_problem_1,A_problem_2,A_problem_3)\n",
    "B_game_row_field_sequence_wise=Game_row_fields(B_problem_1,B_problem_2,B_problem_3)\n",
    "C_game_row_field_sequence_wise=Game_row_fields(C_problem_1,C_problem_2,C_problem_3)\n",
    "D_game_row_field_sequence_wise=Game_row_fields(D_problem_1,D_problem_2,D_problem_3)"
   ]
  },
  {
   "cell_type": "code",
   "execution_count": 112,
   "metadata": {},
   "outputs": [],
   "source": [
    "Dataframe_list=[A_game_row_field_sequence_wise,B_game_row_field_sequence_wise,C_game_row_field_sequence_wise,D_game_row_field_sequence_wise]\n",
    "table_1=pd.DataFrame(Dataframe_list,columns=[\"Expected Winnings Min-Max\",\"Proportion of wins Min-Max\",\"Expected Play Time Min-Max\"],dtype='float')"
   ]
  },
  {
   "cell_type": "code",
   "execution_count": 113,
   "metadata": {},
   "outputs": [
    {
     "data": {
      "text/html": [
       "<div>\n",
       "<style scoped>\n",
       "    .dataframe tbody tr th:only-of-type {\n",
       "        vertical-align: middle;\n",
       "    }\n",
       "\n",
       "    .dataframe tbody tr th {\n",
       "        vertical-align: top;\n",
       "    }\n",
       "\n",
       "    .dataframe thead th {\n",
       "        text-align: right;\n",
       "    }\n",
       "</style>\n",
       "<table border=\"1\" class=\"dataframe\">\n",
       "  <thead>\n",
       "    <tr style=\"text-align: right;\">\n",
       "      <th></th>\n",
       "      <th>Expected Winnings Min-Max</th>\n",
       "      <th>Proportion of wins Min-Max</th>\n",
       "      <th>Expected Play Time Min-Max</th>\n",
       "    </tr>\n",
       "  </thead>\n",
       "  <tbody>\n",
       "    <tr>\n",
       "      <th>A</th>\n",
       "      <td>[-0.03004000000000001, -0.02971999999999997]</td>\n",
       "      <td>[0.48499, 0.48632]</td>\n",
       "      <td>[1.0, 1.0]</td>\n",
       "    </tr>\n",
       "    <tr>\n",
       "      <th>B</th>\n",
       "      <td>[-0.053200000000000025, -0.03411999999999993]</td>\n",
       "      <td>[0.02659, 0.02688]</td>\n",
       "      <td>[1.0, 1.0]</td>\n",
       "    </tr>\n",
       "    <tr>\n",
       "      <th>C</th>\n",
       "      <td>[-0.25045999999999996, -0.24927999999999995]</td>\n",
       "      <td>[0.37236, 0.3753]</td>\n",
       "      <td>[137.57808, 137.68422]</td>\n",
       "    </tr>\n",
       "    <tr>\n",
       "      <th>D</th>\n",
       "      <td>[0.9139600000000001, 0.9140999999999999]</td>\n",
       "      <td>[22.02025782688766, 22.3590282644242]</td>\n",
       "      <td>[8.73698, 8.78416]</td>\n",
       "    </tr>\n",
       "  </tbody>\n",
       "</table>\n",
       "</div>"
      ],
      "text/plain": [
       "                       Expected Winnings Min-Max  \\\n",
       "A   [-0.03004000000000001, -0.02971999999999997]   \n",
       "B  [-0.053200000000000025, -0.03411999999999993]   \n",
       "C   [-0.25045999999999996, -0.24927999999999995]   \n",
       "D       [0.9139600000000001, 0.9140999999999999]   \n",
       "\n",
       "              Proportion of wins Min-Max Expected Play Time Min-Max  \n",
       "A                     [0.48499, 0.48632]                 [1.0, 1.0]  \n",
       "B                     [0.02659, 0.02688]                 [1.0, 1.0]  \n",
       "C                      [0.37236, 0.3753]     [137.57808, 137.68422]  \n",
       "D  [22.02025782688766, 22.3590282644242]         [8.73698, 8.78416]  "
      ]
     },
     "execution_count": 113,
     "metadata": {},
     "output_type": "execute_result"
    }
   ],
   "source": [
    "table_1.index=[\"A\",\"B\",\"C\",\"D\"]\n",
    "table_1"
   ]
  },
  {
   "cell_type": "code",
   "execution_count": null,
   "metadata": {},
   "outputs": [],
   "source": []
  },
  {
   "cell_type": "code",
   "execution_count": null,
   "metadata": {},
   "outputs": [],
   "source": []
  },
  {
   "cell_type": "markdown",
   "metadata": {},
   "source": [
    "## Variation Part B"
   ]
  },
  {
   "cell_type": "markdown",
   "metadata": {},
   "source": [
    "### we will need to modify our games to get the values we are getting after bets so that we can calculate mean and standard deviation"
   ]
  },
  {
   "cell_type": "markdown",
   "metadata": {},
   "source": [
    "### Modifing A Game"
   ]
  },
  {
   "cell_type": "code",
   "execution_count": 114,
   "metadata": {},
   "outputs": [],
   "source": [
    "def A_game():\n",
    "    n=random.randint(0,36)\n",
    "    if(n%2==0 and n!=0):\n",
    "        return 1;\n",
    "    else:\n",
    "        return 0;\n",
    "    \n",
    "def A_game_simulation_modified():\n",
    "    won=[]\n",
    "    lose=[]\n",
    "    bets=[]\n",
    "    for i in range(100000):\n",
    "        bets.append(1)\n",
    "        result=A_game()\n",
    "        if(result):\n",
    "            won.append(1);\n",
    "        else:\n",
    "            lose.append(1);\n",
    "    return won,lose,bets"
   ]
  },
  {
   "cell_type": "code",
   "execution_count": 115,
   "metadata": {},
   "outputs": [],
   "source": [
    "won,lost,bets=A_game_simulation_modified()\n",
    "winnings_mean_game_A=statistics.mean(won)\n",
    "winnings_std_game_A=statistics.stdev(won)\n",
    "proportion_of_win_mean_A=len(won)/len(bets)\n",
    "games_played_mean_A=statistics.mean(bets)\n",
    "games_played_std_A=statistics.stdev(bets)\n",
    "A_game_row_field_sequence_wise_2=[[winnings_mean_game_A,winnings_std_game_A],[proportion_of_win_mean_A],[games_played_mean_A,games_played_std_A]]"
   ]
  },
  {
   "cell_type": "code",
   "execution_count": null,
   "metadata": {},
   "outputs": [],
   "source": []
  },
  {
   "cell_type": "markdown",
   "metadata": {},
   "source": [
    "## Modified B Game"
   ]
  },
  {
   "cell_type": "code",
   "execution_count": 116,
   "metadata": {},
   "outputs": [],
   "source": [
    "def B_game():\n",
    "    x=random.randint(0,36)\n",
    "    n=random.randint(0,36)\n",
    "    if(n==x):\n",
    "        return 1;\n",
    "    else:\n",
    "        return 0;\n",
    "def B_game_simulation_modified():\n",
    "    won=[]\n",
    "    lose=[]\n",
    "    numbers=[]\n",
    "    for i in range(100000):\n",
    "        numbers.append(1)\n",
    "        if(B_game()):\n",
    "            won.append(1)\n",
    "        else:\n",
    "            lose.append(1)\n",
    "    return won,lose,numbers"
   ]
  },
  {
   "cell_type": "code",
   "execution_count": 117,
   "metadata": {},
   "outputs": [],
   "source": [
    "won,lost,bets=B_game_simulation_modified()\n",
    "winnings_mean_game_B=statistics.mean(won)\n",
    "winnings_std_game_B=statistics.stdev(won)\n",
    "proportion_of_win_mean_B=len(won)/len(bets)\n",
    "games_played_mean_B=statistics.mean(bets)\n",
    "games_played_std_B=statistics.stdev(bets)\n",
    "B_game_row_field_sequence_wise_2=[[winnings_mean_game_B,winnings_std_game_B],[proportion_of_win_mean_B],[games_played_mean_B,games_played_std_B]]"
   ]
  },
  {
   "cell_type": "code",
   "execution_count": null,
   "metadata": {},
   "outputs": [],
   "source": []
  },
  {
   "cell_type": "markdown",
   "metadata": {},
   "source": [
    "## Modified C Game"
   ]
  },
  {
   "cell_type": "code",
   "execution_count": 118,
   "metadata": {},
   "outputs": [],
   "source": [
    "\n",
    "def C_game():\n",
    "    funds=1;bet=1;gamesperit=0\n",
    "    while(funds<11 and bet<=100):\n",
    "        gamesperit+=1;\n",
    "        x=random.randint(0,36)\n",
    "        if(x%2!=0):\n",
    "            funds+=1\n",
    "            bet=1\n",
    "        else:\n",
    "            bet*=2\n",
    "            funds-=1\n",
    "    if(funds>1):\n",
    "        return [1,funds,gamesperit]\n",
    "    else:\n",
    "        return [0,funds,gamesperit]\n",
    "\n",
    "\n",
    "\n",
    "\n",
    "def C_game_simulation_modified():\n",
    "    winnings=[];losses=[];bets=[];\n",
    "    for i in range(100000):\n",
    "        result=C_game()\n",
    "        if(result[0]==1):\n",
    "            winnings.append(result[1])\n",
    "            bets.append(result[2])\n",
    "        else:\n",
    "            losses.append(result[1])\n",
    "            bets.append(result[2])\n",
    "    return winnings,losses,bets"
   ]
  },
  {
   "cell_type": "code",
   "execution_count": 119,
   "metadata": {},
   "outputs": [],
   "source": [
    "won,loss,bets=C_game_simulation_modified()\n",
    "winnings_mean_game_C=statistics.mean(won)\n",
    "winnings_std_game_C=statistics.stdev(won)\n",
    "proportion_of_win_mean_C=len(won)/len(bets)\n",
    "games_played_mean_C=statistics.mean(bets)\n",
    "games_played_std_C=statistics.stdev(bets)\n",
    "C_game_row_field_sequence_wise_2=[[winnings_mean_game_C,winnings_std_game_C],[proportion_of_win_mean_C],[games_played_mean_C,games_played_std_C]]"
   ]
  },
  {
   "cell_type": "code",
   "execution_count": null,
   "metadata": {},
   "outputs": [],
   "source": []
  },
  {
   "cell_type": "markdown",
   "metadata": {},
   "source": [
    "## Game D Modified"
   ]
  },
  {
   "cell_type": "code",
   "execution_count": 120,
   "metadata": {},
   "outputs": [],
   "source": [
    "def D_game():\n",
    "    bet=5;ourlist=[1,2,3,4];gamesinbet=0;funds=5\n",
    "    while(len(ourlist)>=1 and bet<=100):\n",
    "       # for i in ourlist:\n",
    "        #    print(i)\n",
    "        #print(\"end\")\n",
    "        gamesinbet+=1\n",
    "        if(len(ourlist)==1):\n",
    "            bet=ourlist[0]\n",
    "        else:\n",
    "            bet=ourlist[0]+ourlist[-1]\n",
    "        x=random.randint(0,36)\n",
    "        if(x%2!=0):\n",
    "            ourlist=ourlist[1:-1]\n",
    "            funds+=bet\n",
    "        else:\n",
    "            ourlist.append(bet)\n",
    "            funds-=bet\n",
    "    if(funds>5):\n",
    "        return [1,funds,gamesinbet]\n",
    "    else:\n",
    "        return [0,funds,gamesinbet]\n",
    "\n",
    "\n",
    "\n",
    "def D_game_simulation_modified():\n",
    "    winnings=[];losses=[];bets=[]\n",
    "    for i in range(100000):\n",
    "        result=D_game()\n",
    "        if(result[0]==1):\n",
    "            winnings.append(result[1])\n",
    "            bets.append(result[2])\n",
    "        else:\n",
    "            losses.append(result[1])\n",
    "            bets.append(result[2])\n",
    "    return winnings,losses,bets"
   ]
  },
  {
   "cell_type": "code",
   "execution_count": 121,
   "metadata": {},
   "outputs": [],
   "source": [
    "won,loss,bets=D_game_simulation_modified()\n",
    "winnings_mean_game_D=statistics.mean(won)\n",
    "winnings_std_game_D=statistics.stdev(won)\n",
    "proportion_of_win_mean_D=len(won)/len(bets)\n",
    "games_played_mean_D=statistics.mean(bets)\n",
    "games_played_std_D=statistics.stdev(bets)\n",
    "D_game_row_field_sequence_wise_2=[[winnings_mean_game_D,winnings_std_game_D],[proportion_of_win_mean_D],[games_played_mean_D,games_played_std_D]]"
   ]
  },
  {
   "cell_type": "code",
   "execution_count": null,
   "metadata": {},
   "outputs": [],
   "source": []
  },
  {
   "cell_type": "markdown",
   "metadata": {},
   "source": [
    "# Forming Table 2"
   ]
  },
  {
   "cell_type": "code",
   "execution_count": 122,
   "metadata": {},
   "outputs": [],
   "source": [
    "Dataframe_list_2=[A_game_row_field_sequence_wise_2,B_game_row_field_sequence_wise_2,C_game_row_field_sequence_wise_2,D_game_row_field_sequence_wise_2]\n",
    "table_2=pd.DataFrame(Dataframe_list_2,columns=[\"Expected Winnings Mean-Stdev\",\"Proportion of wins Mean\",\"Expected Play Time Mean-Stdev\"],dtype='float')"
   ]
  },
  {
   "cell_type": "code",
   "execution_count": 123,
   "metadata": {
    "scrolled": true
   },
   "outputs": [
    {
     "data": {
      "text/html": [
       "<div>\n",
       "<style scoped>\n",
       "    .dataframe tbody tr th:only-of-type {\n",
       "        vertical-align: middle;\n",
       "    }\n",
       "\n",
       "    .dataframe tbody tr th {\n",
       "        vertical-align: top;\n",
       "    }\n",
       "\n",
       "    .dataframe thead th {\n",
       "        text-align: right;\n",
       "    }\n",
       "</style>\n",
       "<table border=\"1\" class=\"dataframe\">\n",
       "  <thead>\n",
       "    <tr style=\"text-align: right;\">\n",
       "      <th></th>\n",
       "      <th>Expected Winnings Mean-Stdev</th>\n",
       "      <th>Proportion of wins Mean</th>\n",
       "      <th>Expected Play Time Mean-Stdev</th>\n",
       "    </tr>\n",
       "  </thead>\n",
       "  <tbody>\n",
       "    <tr>\n",
       "      <th>A</th>\n",
       "      <td>[1, 0.0]</td>\n",
       "      <td>[0.4859]</td>\n",
       "      <td>[1, 0.0]</td>\n",
       "    </tr>\n",
       "    <tr>\n",
       "      <th>B</th>\n",
       "      <td>[1, 0.0]</td>\n",
       "      <td>[0.02708]</td>\n",
       "      <td>[1, 0.0]</td>\n",
       "    </tr>\n",
       "    <tr>\n",
       "      <th>C</th>\n",
       "      <td>[10.57909409515718, 1.8588109793424266]</td>\n",
       "      <td>[0.37664]</td>\n",
       "      <td>[139.11764, 149.47814307778572]</td>\n",
       "    </tr>\n",
       "    <tr>\n",
       "      <th>D</th>\n",
       "      <td>[15, 0.0]</td>\n",
       "      <td>[0.95704]</td>\n",
       "      <td>[8.84052, 7.733792358541988]</td>\n",
       "    </tr>\n",
       "  </tbody>\n",
       "</table>\n",
       "</div>"
      ],
      "text/plain": [
       "              Expected Winnings Mean-Stdev Proportion of wins Mean  \\\n",
       "A                                 [1, 0.0]                [0.4859]   \n",
       "B                                 [1, 0.0]               [0.02708]   \n",
       "C  [10.57909409515718, 1.8588109793424266]               [0.37664]   \n",
       "D                                [15, 0.0]               [0.95704]   \n",
       "\n",
       "     Expected Play Time Mean-Stdev  \n",
       "A                         [1, 0.0]  \n",
       "B                         [1, 0.0]  \n",
       "C  [139.11764, 149.47814307778572]  \n",
       "D     [8.84052, 7.733792358541988]  "
      ]
     },
     "execution_count": 123,
     "metadata": {},
     "output_type": "execute_result"
    }
   ],
   "source": [
    "table_2.index=[\"A\",\"B\",\"C\",\"D\"]\n",
    "table_2"
   ]
  },
  {
   "cell_type": "code",
   "execution_count": null,
   "metadata": {},
   "outputs": [],
   "source": []
  },
  {
   "cell_type": "markdown",
   "metadata": {},
   "source": [
    "# The Amount Won is most variable for Game C"
   ]
  },
  {
   "cell_type": "markdown",
   "metadata": {},
   "source": [
    "# Expected Playing Time is most Variable for Game C"
   ]
  },
  {
   "cell_type": "code",
   "execution_count": null,
   "metadata": {},
   "outputs": [],
   "source": []
  }
 ],
 "metadata": {
  "kernelspec": {
   "display_name": "Python 3",
   "language": "python",
   "name": "python3"
  },
  "language_info": {
   "codemirror_mode": {
    "name": "ipython",
    "version": 3
   },
   "file_extension": ".py",
   "mimetype": "text/x-python",
   "name": "python",
   "nbconvert_exporter": "python",
   "pygments_lexer": "ipython3",
   "version": "3.8.5"
  }
 },
 "nbformat": 4,
 "nbformat_minor": 4
}
